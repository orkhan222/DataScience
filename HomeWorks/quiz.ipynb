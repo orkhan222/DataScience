{
 "cells": [
  {
   "cell_type": "code",
   "execution_count": 1,
   "metadata": {},
   "outputs": [],
   "source": [
    "# import\n",
    "import pandas as pd"
   ]
  },
  {
   "cell_type": "code",
   "execution_count": 2,
   "metadata": {},
   "outputs": [],
   "source": [
    "df = {\n",
    "    'Name': ['Ali', 'Orkhan', 'Fidan', 'Davud', 'Osman', 'Anar', 'Narmin', 'Nargiz'],\n",
    "    'Gender': ['M', 'M', 'F', 'M', 'M', 'M', 'F', 'F'],\n",
    "    'Age': [25, 30, 35, 40, 28, 33, 22, 29],\n",
    "    'Country': ['USA', 'England', 'USA', 'Turkiye', 'Azerbaijan', 'USA', 'Turkiye', 'Azerbaijan']\n",
    "}"
   ]
  },
  {
   "cell_type": "code",
   "execution_count": 3,
   "metadata": {},
   "outputs": [
    {
     "name": "stdout",
     "output_type": "stream",
     "text": [
      "     Name Gender  Age     Country\n",
      "0     Ali      M   25         USA\n",
      "1  Orkhan      M   30     England\n",
      "2   Fidan      F   35         USA\n",
      "3   Davud      M   40     Turkiye\n",
      "4   Osman      M   28  Azerbaijan\n",
      "5    Anar      M   33         USA\n",
      "6  Narmin      F   22     Turkiye\n",
      "7  Nargiz      F   29  Azerbaijan\n"
     ]
    }
   ],
   "source": [
    "data = pd.DataFrame(df)\n",
    "print(data)"
   ]
  },
  {
   "cell_type": "code",
   "execution_count": 70,
   "metadata": {},
   "outputs": [
    {
     "name": "stdout",
     "output_type": "stream",
     "text": [
      "1\n"
     ]
    }
   ],
   "source": [
    "group = data.groupby('Country').size().min()\n",
    "print(group)"
   ]
  },
  {
   "cell_type": "code",
   "execution_count": 72,
   "metadata": {},
   "outputs": [
    {
     "name": "stdout",
     "output_type": "stream",
     "text": [
      "     Name Gender  Age     Country\n",
      "0   Osman      M   28  Azerbaijan\n",
      "1  Orkhan      M   30     England\n",
      "2   Davud      M   40     Turkiye\n",
      "3    Anar      M   33         USA\n"
     ]
    }
   ],
   "source": [
    "sampled_df = data.groupby('Country').apply(lambda x: x.sample(group)).reset_index(drop=True)\n",
    "print(sampled_df)"
   ]
  },
  {
   "cell_type": "code",
   "execution_count": null,
   "metadata": {},
   "outputs": [],
   "source": [
    "# =================================================================================================================\n",
    "# 2-ci"
   ]
  },
  {
   "cell_type": "code",
   "execution_count": 73,
   "metadata": {},
   "outputs": [
    {
     "name": "stdout",
     "output_type": "stream",
     "text": [
      "Country\n",
      "Azerbaijan    28.5\n",
      "England       30.0\n",
      "Turkiye       31.0\n",
      "USA           31.0\n",
      "Name: Age, dtype: float64\n"
     ]
    }
   ],
   "source": [
    "mean_ages = data.groupby('Country')['Age'].mean()\n",
    "print(mean_ages)"
   ]
  },
  {
   "cell_type": "code",
   "execution_count": 74,
   "metadata": {},
   "outputs": [
    {
     "name": "stdout",
     "output_type": "stream",
     "text": [
      "['Azerbaijan', 'England', 'Turkiye', 'USA']\n",
      "[28.5, 30.0, 31.0, 31.0]\n"
     ]
    }
   ],
   "source": [
    "countries = mean_ages.index.tolist()\n",
    "averages = mean_ages.values.tolist()\n",
    "print(countries)\n",
    "print(averages)"
   ]
  },
  {
   "cell_type": "code",
   "execution_count": null,
   "metadata": {},
   "outputs": [],
   "source": []
  },
  {
   "cell_type": "code",
   "execution_count": 75,
   "metadata": {},
   "outputs": [
    {
     "name": "stdout",
     "output_type": "stream",
     "text": [
      "    Name Gender  Age  Country\n",
      "2  Fidan      F   35      USA\n",
      "3  Davud      M   40  Turkiye\n",
      "5   Anar      M   33      USA\n"
     ]
    }
   ],
   "source": [
    "# ============================================================================================================================================================\n",
    "# 3-cu\n",
    "filter = data[(df['Age'] > 30) | (df['Age'] < 20)]\n",
    "print(filter.head())"
   ]
  }
 ],
 "metadata": {
  "kernelspec": {
   "display_name": "base",
   "language": "python",
   "name": "python3"
  },
  "language_info": {
   "codemirror_mode": {
    "name": "ipython",
    "version": 3
   },
   "file_extension": ".py",
   "mimetype": "text/x-python",
   "name": "python",
   "nbconvert_exporter": "python",
   "pygments_lexer": "ipython3",
   "version": "3.11.5"
  }
 },
 "nbformat": 4,
 "nbformat_minor": 2
}
