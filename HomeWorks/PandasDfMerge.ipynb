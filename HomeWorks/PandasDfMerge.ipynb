{
 "cells": [
  {
   "cell_type": "code",
   "execution_count": 72,
   "metadata": {},
   "outputs": [],
   "source": [
    "# import\n",
    "import pandas as pd"
   ]
  },
  {
   "cell_type": "code",
   "execution_count": 73,
   "metadata": {},
   "outputs": [
    {
     "name": "stdout",
     "output_type": "stream",
     "text": [
      "{'USD': 1, 'EUR': 1.1, 'GBP': 1.3}\n"
     ]
    }
   ],
   "source": [
    "# Satış datası\n",
    "sales_data = pd.DataFrame({\n",
    "    'Department': ['A', 'B', 'C', 'D'],\n",
    "    'Sales': [50000, 75000, 60000, 90000],\n",
    "    'Sales_Unit': ['USD', 'EUR', 'GBP', 'USD']\n",
    "})\n",
    "\n",
    "satisfaction_data = pd.DataFrame({\n",
    "    'Department': ['A', 'B', 'C', 'D'],\n",
    "    'Satisfaction': [80, 90, 85, 88],\n",
    "    'Satisfaction_Unit': ['Percentage', 'Percentage', 'Percentage', 'Percentage']\n",
    "})\n",
    "\n",
    "exchange_rates = {'USD': 1, 'EUR': 1.1, 'GBP': 1.3}\n",
    "print(exchange_rates)"
   ]
  },
  {
   "cell_type": "code",
   "execution_count": 74,
   "metadata": {},
   "outputs": [
    {
     "name": "stdout",
     "output_type": "stream",
     "text": [
      "<function convert_and_merge at 0x00000276F1515440>\n"
     ]
    }
   ],
   "source": [
    "# 1.convert və merge etmək üçün function yazın\n",
    "def convert_and_merge(sales_data, satisfaction_data, exchange_rates):\n",
    "    sales_data['Sales_in_USD'] = sales_data.apply(lambda row: row['Sales'] / exchange_rates[row['Sales_Unit']], axis=1)\n",
    "    merged_data = pd.merge(sales_data, satisfaction_data, on='Department')\n",
    "    \n",
    "    return merged_data\n",
    "print(convert_and_merge)"
   ]
  },
  {
   "cell_type": "code",
   "execution_count": 75,
   "metadata": {},
   "outputs": [
    {
     "name": "stdout",
     "output_type": "stream",
     "text": [
      "  Department  Sales Sales_Unit  Sales_in_USD  Satisfaction Satisfaction_Unit\n",
      "0          A  50000        USD  50000.000000            80        Percentage\n",
      "1          B  75000        EUR  68181.818182            90        Percentage\n",
      "2          C  60000        GBP  46153.846154            85        Percentage\n",
      "3          D  90000        USD  90000.000000            88        Percentage\n"
     ]
    }
   ],
   "source": [
    "# 2.Convert edin və 2 dataseti birləşdirin.\n",
    "merged = convert_and_merge(sales_data, satisfaction_data, exchange_rates)\n",
    "print(merged)"
   ]
  },
  {
   "cell_type": "code",
   "execution_count": 76,
   "metadata": {},
   "outputs": [
    {
     "name": "stdout",
     "output_type": "stream",
     "text": [
      "0    40000\n",
      "1    61363\n",
      "2    39230\n",
      "3    79200\n",
      "dtype: int32\n"
     ]
    }
   ],
   "source": [
    "# 3.Məmnun qalan müştərilərin sayını tapın\n",
    "counnt = merged['Satisfied_Customers'] = (merged['Sales_in_USD'] * merged['Satisfaction'] / 100).astype(int)\n",
    "print(counnt)"
   ]
  },
  {
   "cell_type": "code",
   "execution_count": 77,
   "metadata": {},
   "outputs": [
    {
     "name": "stdout",
     "output_type": "stream",
     "text": [
      "  Department  Sales Sales_Unit  Sales_in_USD  Satisfaction Satisfaction_Unit  \\\n",
      "0          A  50000        USD  50000.000000            80        Percentage   \n",
      "1          B  75000        EUR  68181.818182            90        Percentage   \n",
      "2          C  60000        GBP  46153.846154            85        Percentage   \n",
      "3          D  90000        USD  90000.000000            88        Percentage   \n",
      "\n",
      "   Satisfied_Customers  \n",
      "0                40000  \n",
      "1                61363  \n",
      "2                39230  \n",
      "3                79200  \n"
     ]
    }
   ],
   "source": [
    "# 4. Sonucu yazdırma\n",
    "print(merged)"
   ]
  }
 ],
 "metadata": {
  "kernelspec": {
   "display_name": "base",
   "language": "python",
   "name": "python3"
  },
  "language_info": {
   "codemirror_mode": {
    "name": "ipython",
    "version": 3
   },
   "file_extension": ".py",
   "mimetype": "text/x-python",
   "name": "python",
   "nbconvert_exporter": "python",
   "pygments_lexer": "ipython3",
   "version": "3.11.5"
  }
 },
 "nbformat": 4,
 "nbformat_minor": 2
}
