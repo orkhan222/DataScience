{
 "cells": [
  {
   "cell_type": "code",
   "execution_count": 1,
   "metadata": {},
   "outputs": [],
   "source": [
    "# import\n",
    "import pandas as pd\n",
    "import numpy as np"
   ]
  },
  {
   "cell_type": "code",
   "execution_count": 2,
   "metadata": {},
   "outputs": [
    {
     "data": {
      "text/html": [
       "<div>\n",
       "<style scoped>\n",
       "    .dataframe tbody tr th:only-of-type {\n",
       "        vertical-align: middle;\n",
       "    }\n",
       "\n",
       "    .dataframe tbody tr th {\n",
       "        vertical-align: top;\n",
       "    }\n",
       "\n",
       "    .dataframe thead th {\n",
       "        text-align: right;\n",
       "    }\n",
       "</style>\n",
       "<table border=\"1\" class=\"dataframe\">\n",
       "  <thead>\n",
       "    <tr style=\"text-align: right;\">\n",
       "      <th></th>\n",
       "      <th>Customer ID</th>\n",
       "      <th>Age</th>\n",
       "      <th>Gender</th>\n",
       "      <th>Item Purchased</th>\n",
       "      <th>Category</th>\n",
       "      <th>Purchase Amount (USD)</th>\n",
       "      <th>Location</th>\n",
       "      <th>Size</th>\n",
       "      <th>Color</th>\n",
       "      <th>Season</th>\n",
       "      <th>Review Rating</th>\n",
       "      <th>Subscription Status</th>\n",
       "      <th>Payment Method</th>\n",
       "      <th>Shipping Type</th>\n",
       "      <th>Discount Applied</th>\n",
       "      <th>Promo Code Used</th>\n",
       "      <th>Previous Purchases</th>\n",
       "      <th>Preferred Payment Method</th>\n",
       "      <th>Frequency of Purchases</th>\n",
       "    </tr>\n",
       "  </thead>\n",
       "  <tbody>\n",
       "    <tr>\n",
       "      <th>0</th>\n",
       "      <td>1</td>\n",
       "      <td>55.0</td>\n",
       "      <td>Male</td>\n",
       "      <td>Blouse</td>\n",
       "      <td>Clothing</td>\n",
       "      <td>53</td>\n",
       "      <td>Kentucky</td>\n",
       "      <td>L</td>\n",
       "      <td>Gray</td>\n",
       "      <td>Winter</td>\n",
       "      <td>3.1</td>\n",
       "      <td>Yes</td>\n",
       "      <td>Credit Card</td>\n",
       "      <td>Express</td>\n",
       "      <td>Yes</td>\n",
       "      <td>Yes</td>\n",
       "      <td>14.0</td>\n",
       "      <td>Venmo</td>\n",
       "      <td>Fortnightly</td>\n",
       "    </tr>\n",
       "    <tr>\n",
       "      <th>1</th>\n",
       "      <td>2</td>\n",
       "      <td>19.0</td>\n",
       "      <td>Male</td>\n",
       "      <td>Sweater</td>\n",
       "      <td>Clothing</td>\n",
       "      <td>64</td>\n",
       "      <td>Maine</td>\n",
       "      <td>L</td>\n",
       "      <td>Maroon</td>\n",
       "      <td>Winter</td>\n",
       "      <td>3.1</td>\n",
       "      <td>Yes</td>\n",
       "      <td>Bank Transfer</td>\n",
       "      <td>Express</td>\n",
       "      <td>Yes</td>\n",
       "      <td>Yes</td>\n",
       "      <td>2.0</td>\n",
       "      <td>Cash</td>\n",
       "      <td>Fortnightly</td>\n",
       "    </tr>\n",
       "    <tr>\n",
       "      <th>2</th>\n",
       "      <td>3</td>\n",
       "      <td>50.0</td>\n",
       "      <td>Male</td>\n",
       "      <td>Jeans</td>\n",
       "      <td>Clothing</td>\n",
       "      <td>73</td>\n",
       "      <td>Massachusetts</td>\n",
       "      <td>S</td>\n",
       "      <td>Maroon</td>\n",
       "      <td>Spring</td>\n",
       "      <td>3.1</td>\n",
       "      <td>Yes</td>\n",
       "      <td>Cash</td>\n",
       "      <td>Free Shipping</td>\n",
       "      <td>Yes</td>\n",
       "      <td>Yes</td>\n",
       "      <td>23.0</td>\n",
       "      <td>Credit Card</td>\n",
       "      <td>Weekly</td>\n",
       "    </tr>\n",
       "    <tr>\n",
       "      <th>3</th>\n",
       "      <td>4</td>\n",
       "      <td>21.0</td>\n",
       "      <td>Male</td>\n",
       "      <td>Sandals</td>\n",
       "      <td>Footwear</td>\n",
       "      <td>90</td>\n",
       "      <td>Rhode Island</td>\n",
       "      <td>M</td>\n",
       "      <td>Maroon</td>\n",
       "      <td>Spring</td>\n",
       "      <td>3.5</td>\n",
       "      <td>Yes</td>\n",
       "      <td>PayPal</td>\n",
       "      <td>Next Day Air</td>\n",
       "      <td>Yes</td>\n",
       "      <td>Yes</td>\n",
       "      <td>49.0</td>\n",
       "      <td>PayPal</td>\n",
       "      <td>Weekly</td>\n",
       "    </tr>\n",
       "    <tr>\n",
       "      <th>4</th>\n",
       "      <td>5</td>\n",
       "      <td>45.0</td>\n",
       "      <td>Male</td>\n",
       "      <td>Blouse</td>\n",
       "      <td>Clothing</td>\n",
       "      <td>49</td>\n",
       "      <td>Oregon</td>\n",
       "      <td>M</td>\n",
       "      <td>Turquoise</td>\n",
       "      <td>Spring</td>\n",
       "      <td>2.7</td>\n",
       "      <td>Yes</td>\n",
       "      <td>Cash</td>\n",
       "      <td>Free Shipping</td>\n",
       "      <td>Yes</td>\n",
       "      <td>Yes</td>\n",
       "      <td>31.0</td>\n",
       "      <td>PayPal</td>\n",
       "      <td>NaN</td>\n",
       "    </tr>\n",
       "  </tbody>\n",
       "</table>\n",
       "</div>"
      ],
      "text/plain": [
       "   Customer ID   Age Gender Item Purchased  Category  Purchase Amount (USD)  \\\n",
       "0            1  55.0   Male         Blouse  Clothing                     53   \n",
       "1            2  19.0   Male        Sweater  Clothing                     64   \n",
       "2            3  50.0   Male          Jeans  Clothing                     73   \n",
       "3            4  21.0   Male        Sandals  Footwear                     90   \n",
       "4            5  45.0   Male         Blouse  Clothing                     49   \n",
       "\n",
       "        Location Size      Color  Season  Review Rating Subscription Status  \\\n",
       "0       Kentucky    L       Gray  Winter            3.1                 Yes   \n",
       "1          Maine    L     Maroon  Winter            3.1                 Yes   \n",
       "2  Massachusetts    S     Maroon  Spring            3.1                 Yes   \n",
       "3   Rhode Island    M     Maroon  Spring            3.5                 Yes   \n",
       "4         Oregon    M  Turquoise  Spring            2.7                 Yes   \n",
       "\n",
       "  Payment Method  Shipping Type Discount Applied Promo Code Used  \\\n",
       "0    Credit Card        Express              Yes             Yes   \n",
       "1  Bank Transfer        Express              Yes             Yes   \n",
       "2           Cash  Free Shipping              Yes             Yes   \n",
       "3         PayPal   Next Day Air              Yes             Yes   \n",
       "4           Cash  Free Shipping              Yes             Yes   \n",
       "\n",
       "   Previous Purchases Preferred Payment Method Frequency of Purchases  \n",
       "0                14.0                    Venmo            Fortnightly  \n",
       "1                 2.0                     Cash            Fortnightly  \n",
       "2                23.0              Credit Card                 Weekly  \n",
       "3                49.0                   PayPal                 Weekly  \n",
       "4                31.0                   PayPal                    NaN  "
      ]
     },
     "execution_count": 2,
     "metadata": {},
     "output_type": "execute_result"
    }
   ],
   "source": [
    "# Step 1\n",
    "df = pd.read_csv(r'../Datasets/shopping_trends.csv')\n",
    "df.head(5)"
   ]
  },
  {
   "cell_type": "code",
   "execution_count": 3,
   "metadata": {},
   "outputs": [
    {
     "name": "stdout",
     "output_type": "stream",
     "text": [
      "['Customer ID', 'Age', 'Gender', 'Item Purchased', 'Category', 'Purchase Amount (USD)', 'Location', 'Size', 'Color', 'Season', 'Review Rating', 'Subscription Status', 'Payment Method', 'Shipping Type', 'Discount Applied', 'Promo Code Used', 'Previous Purchases', 'Preferred Payment Method', 'Frequency of Purchases']\n"
     ]
    }
   ],
   "source": [
    "# Step 2\n",
    "print(df.columns.tolist())"
   ]
  },
  {
   "cell_type": "code",
   "execution_count": 4,
   "metadata": {},
   "outputs": [
    {
     "name": "stdout",
     "output_type": "stream",
     "text": [
      "       Customer ID          Age  Purchase Amount (USD)  Review Rating  \\\n",
      "count  3900.000000  3899.000000            3900.000000    3899.000000   \n",
      "mean   1950.500000    44.067966              59.764359       3.750244   \n",
      "std    1125.977353    15.209508              23.685392       0.716078   \n",
      "min       1.000000    18.000000              20.000000       2.500000   \n",
      "25%     975.750000    31.000000              39.000000       3.100000   \n",
      "50%    1950.500000    44.000000              60.000000       3.700000   \n",
      "75%    2925.250000    57.000000              81.000000       4.400000   \n",
      "max    3900.000000    70.000000             100.000000       5.000000   \n",
      "\n",
      "       Previous Purchases  \n",
      "count         3899.000000  \n",
      "mean            25.350090  \n",
      "std             14.448695  \n",
      "min              1.000000  \n",
      "25%             13.000000  \n",
      "50%             25.000000  \n",
      "75%             38.000000  \n",
      "max             50.000000  \n"
     ]
    }
   ],
   "source": [
    "# Step 2\n",
    "print(df.describe())"
   ]
  },
  {
   "cell_type": "code",
   "execution_count": 6,
   "metadata": {},
   "outputs": [
    {
     "name": "stdout",
     "output_type": "stream",
     "text": [
      "Customer ID                 0\n",
      "Age                         1\n",
      "Gender                      0\n",
      "Item Purchased              4\n",
      "Category                    0\n",
      "Purchase Amount (USD)       0\n",
      "Location                    1\n",
      "Size                        0\n",
      "Color                       1\n",
      "Season                      0\n",
      "Review Rating               1\n",
      "Subscription Status         0\n",
      "Payment Method              0\n",
      "Shipping Type               1\n",
      "Discount Applied            0\n",
      "Promo Code Used             1\n",
      "Previous Purchases          1\n",
      "Preferred Payment Method    0\n",
      "Frequency of Purchases      1\n",
      "dtype: int64\n"
     ]
    }
   ],
   "source": [
    "# Step 2\n",
    "print(df.isnull().sum())"
   ]
  },
  {
   "cell_type": "code",
   "execution_count": 7,
   "metadata": {},
   "outputs": [
    {
     "name": "stdout",
     "output_type": "stream",
     "text": [
      "Frequency of Purchases\n"
     ]
    }
   ],
   "source": [
    "# Step 3\n",
    "for column in df.columns:\n",
    "    if df[column].dtype == 'object': \n",
    "        df[column].fillna(df[column].mode()[0], inplace=True)\n",
    "    else: \n",
    "        df[column].fillna(df[column].median(), inplace=True)\n",
    "print(column)"
   ]
  },
  {
   "cell_type": "code",
   "execution_count": 8,
   "metadata": {},
   "outputs": [
    {
     "name": "stdout",
     "output_type": "stream",
     "text": [
      "min      20.000000\n",
      "max     100.000000\n",
      "mean     59.764359\n",
      "Name: Purchase Amount (USD), dtype: float64\n"
     ]
    }
   ],
   "source": [
    "# Step 4\n",
    "purchase_amount = df['Purchase Amount (USD)'].agg(['min', 'max', 'mean'])\n",
    "print(purchase_amount)\n"
   ]
  },
  {
   "cell_type": "code",
   "execution_count": 9,
   "metadata": {},
   "outputs": [
    {
     "name": "stdout",
     "output_type": "stream",
     "text": [
      "sum      98865.00\n",
      "mean        25.35\n",
      "count     3900.00\n",
      "Name: Previous Purchases, dtype: float64\n"
     ]
    }
   ],
   "source": [
    "# Step 4\n",
    "previous_purchases = df['Previous Purchases'].agg(['sum', 'mean', 'count'])\n",
    "print(previous_purchases)"
   ]
  },
  {
   "cell_type": "code",
   "execution_count": 10,
   "metadata": {},
   "outputs": [
    {
     "name": "stdout",
     "output_type": "stream",
     "text": [
      "               Purchase Amount (USD)                 Previous Purchases  \\\n",
      "                                 min  max       mean                sum   \n",
      "Item Purchased                                                            \n",
      "Backpack                          20   99  60.391608             3370.0   \n",
      "Belt                              20  100  59.844720             3877.0   \n",
      "Blouse                            20  100  60.691429             4699.0   \n",
      "Boots                             21  100  62.625000             3796.0   \n",
      "Coat                              20  100  57.608696             4317.0   \n",
      "Dress                             20  100  62.168675             4407.0   \n",
      "Gloves                            21   99  60.550000             3702.0   \n",
      "Handbag                           21  100  57.888889             3775.0   \n",
      "Hat                               20   98  60.960784             3872.0   \n",
      "Hoodie                            20  100  58.059603             3673.0   \n",
      "Jacket                            20  100  56.742331             3769.0   \n",
      "Jeans                             20   99  60.870968             2663.0   \n",
      "Jewelry                           20  100  58.538012             4943.0   \n",
      "Pants                             20   99  59.005848             4302.0   \n",
      "Sandals                           20  100  57.500000             3869.0   \n",
      "Scarf                             20   99  60.898089             4205.0   \n",
      "Shirt                             20   99  61.244048             4293.0   \n",
      "Shoes                             20   99  61.600000             3790.0   \n",
      "Shorts                            20  100  60.082803             4088.0   \n",
      "Skirt                             20  100  59.506329             3925.0   \n",
      "Sneakers                          20  100  59.545455             3597.0   \n",
      "Socks                             20  100  58.188679             3965.0   \n",
      "Sunglasses                        20  100  59.931677             4121.0   \n",
      "Sweater                           20  100  57.695122             4199.0   \n",
      "T-shirt                           20  100  62.911565             3648.0   \n",
      "\n",
      "                                 \n",
      "                     mean count  \n",
      "Item Purchased                   \n",
      "Backpack        23.566434   143  \n",
      "Belt            24.080745   161  \n",
      "Blouse          26.851429   175  \n",
      "Boots           26.361111   144  \n",
      "Coat            26.813665   161  \n",
      "Dress           26.548193   166  \n",
      "Gloves          26.442857   140  \n",
      "Handbag         24.673203   153  \n",
      "Hat             25.307190   153  \n",
      "Hoodie          24.324503   151  \n",
      "Jacket          23.122699   163  \n",
      "Jeans           21.475806   124  \n",
      "Jewelry         28.906433   171  \n",
      "Pants           25.157895   171  \n",
      "Sandals         24.181250   160  \n",
      "Scarf           26.783439   157  \n",
      "Shirt           25.553571   168  \n",
      "Shoes           25.266667   150  \n",
      "Shorts          26.038217   157  \n",
      "Skirt           24.841772   158  \n",
      "Sneakers        25.153846   143  \n",
      "Socks           24.937107   159  \n",
      "Sunglasses      25.596273   161  \n",
      "Sweater         25.603659   164  \n",
      "T-shirt         24.816327   147  \n"
     ]
    }
   ],
   "source": [
    "# Step 4\n",
    "group = df.groupby('Item Purchased').agg(\n",
    "    {\n",
    "    'Purchase Amount (USD)': ['min', 'max', 'mean'],\n",
    "    'Previous Purchases': ['sum', 'mean', 'count']\n",
    "    }\n",
    "    )\n",
    "print(group)"
   ]
  },
  {
   "cell_type": "code",
   "execution_count": 11,
   "metadata": {},
   "outputs": [
    {
     "name": "stdout",
     "output_type": "stream",
     "text": [
      "Item Purchased\n",
      "Backpack      1\n",
      "Belt          1\n",
      "Blouse        3\n",
      "Boots         1\n",
      "Coat          1\n",
      "Dress         1\n",
      "Gloves        1\n",
      "Handbag       1\n",
      "Hat           1\n",
      "Hoodie        1\n",
      "Jacket        1\n",
      "Jeans         1\n",
      "Jewelry       1\n",
      "Pants         1\n",
      "Sandals       1\n",
      "Scarf         1\n",
      "Shirt         1\n",
      "Shoes         1\n",
      "Shorts        1\n",
      "Skirt         1\n",
      "Sneakers      1\n",
      "Socks         1\n",
      "Sunglasses    1\n",
      "Sweater       1\n",
      "T-shirt       1\n",
      "Name: Category, dtype: int64\n"
     ]
    }
   ],
   "source": [
    "# Step 5\n",
    "categories = df.groupby('Item Purchased')['Category'].nunique()\n",
    "print(categories)"
   ]
  },
  {
   "cell_type": "code",
   "execution_count": 12,
   "metadata": {},
   "outputs": [
    {
     "name": "stdout",
     "output_type": "stream",
     "text": [
      "               Purchase Amount (USD)                 Previous Purchases  \\\n",
      "                                 min  max       mean                sum   \n",
      "Item Purchased                                                            \n",
      "Backpack                          20   99  60.391608             3370.0   \n",
      "Belt                              20  100  59.844720             3877.0   \n",
      "Blouse                            20  100  60.691429             4699.0   \n",
      "Boots                             21  100  62.625000             3796.0   \n",
      "Coat                              20  100  57.608696             4317.0   \n",
      "Dress                             20  100  62.168675             4407.0   \n",
      "Gloves                            21   99  60.550000             3702.0   \n",
      "Handbag                           21  100  57.888889             3775.0   \n",
      "Hat                               20   98  60.960784             3872.0   \n",
      "Hoodie                            20  100  58.059603             3673.0   \n",
      "Jacket                            20  100  56.742331             3769.0   \n",
      "Jeans                             20   99  60.870968             2663.0   \n",
      "Jewelry                           20  100  58.538012             4943.0   \n",
      "Pants                             20   99  59.005848             4302.0   \n",
      "Sandals                           20  100  57.500000             3869.0   \n",
      "Scarf                             20   99  60.898089             4205.0   \n",
      "Shirt                             20   99  61.244048             4293.0   \n",
      "Shoes                             20   99  61.600000             3790.0   \n",
      "Shorts                            20  100  60.082803             4088.0   \n",
      "Skirt                             20  100  59.506329             3925.0   \n",
      "Sneakers                          20  100  59.545455             3597.0   \n",
      "Socks                             20  100  58.188679             3965.0   \n",
      "Sunglasses                        20  100  59.931677             4121.0   \n",
      "Sweater                           20  100  57.695122             4199.0   \n",
      "T-shirt                           20  100  62.911565             3648.0   \n",
      "\n",
      "                                Categories   \n",
      "                     mean count              \n",
      "Item Purchased                               \n",
      "Backpack        23.566434   143           1  \n",
      "Belt            24.080745   161           1  \n",
      "Blouse          26.851429   175           3  \n",
      "Boots           26.361111   144           1  \n",
      "Coat            26.813665   161           1  \n",
      "Dress           26.548193   166           1  \n",
      "Gloves          26.442857   140           1  \n",
      "Handbag         24.673203   153           1  \n",
      "Hat             25.307190   153           1  \n",
      "Hoodie          24.324503   151           1  \n",
      "Jacket          23.122699   163           1  \n",
      "Jeans           21.475806   124           1  \n",
      "Jewelry         28.906433   171           1  \n",
      "Pants           25.157895   171           1  \n",
      "Sandals         24.181250   160           1  \n",
      "Scarf           26.783439   157           1  \n",
      "Shirt           25.553571   168           1  \n",
      "Shoes           25.266667   150           1  \n",
      "Shorts          26.038217   157           1  \n",
      "Skirt           24.841772   158           1  \n",
      "Sneakers        25.153846   143           1  \n",
      "Socks           24.937107   159           1  \n",
      "Sunglasses      25.596273   161           1  \n",
      "Sweater         25.603659   164           1  \n",
      "T-shirt         24.816327   147           1  \n"
     ]
    }
   ],
   "source": [
    "# Step 6\n",
    "combined = group.copy()\n",
    "combined['Categories '] = categories\n",
    "print(combined)"
   ]
  },
  {
   "cell_type": "code",
   "execution_count": 13,
   "metadata": {},
   "outputs": [
    {
     "name": "stdout",
     "output_type": "stream",
     "text": [
      "               Purchase Amount (USD)                 Previous Purchases  \\\n",
      "                                 min  max       mean                sum   \n",
      "Item Purchased                                                            \n",
      "Backpack                          20   99  60.391608             3370.0   \n",
      "Belt                              20  100  59.844720             3877.0   \n",
      "Blouse                            20  100  60.691429             4699.0   \n",
      "Boots                             21  100  62.625000             3796.0   \n",
      "Coat                              20  100  57.608696             4317.0   \n",
      "\n",
      "                                Categories   \n",
      "                     mean count              \n",
      "Item Purchased                               \n",
      "Backpack        23.566434   143           1  \n",
      "Belt            24.080745   161           1  \n",
      "Blouse          26.851429   175           3  \n",
      "Boots           26.361111   144           1  \n",
      "Coat            26.813665   161           1  \n"
     ]
    }
   ],
   "source": [
    "# step 7 print the result\n",
    "print(combined.head())"
   ]
  }
 ],
 "metadata": {
  "kernelspec": {
   "display_name": "base",
   "language": "python",
   "name": "python3"
  },
  "language_info": {
   "codemirror_mode": {
    "name": "ipython",
    "version": 3
   },
   "file_extension": ".py",
   "mimetype": "text/x-python",
   "name": "python",
   "nbconvert_exporter": "python",
   "pygments_lexer": "ipython3",
   "version": "3.11.5"
  }
 },
 "nbformat": 4,
 "nbformat_minor": 2
}
