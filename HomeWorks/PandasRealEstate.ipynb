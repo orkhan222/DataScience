{
 "cells": [
  {
   "cell_type": "code",
   "execution_count": 1,
   "metadata": {},
   "outputs": [],
   "source": [
    "# import\n",
    "import pandas as pd\n"
   ]
  },
  {
   "cell_type": "code",
   "execution_count": 2,
   "metadata": {},
   "outputs": [
    {
     "data": {
      "text/html": [
       "<div>\n",
       "<style scoped>\n",
       "    .dataframe tbody tr th:only-of-type {\n",
       "        vertical-align: middle;\n",
       "    }\n",
       "\n",
       "    .dataframe tbody tr th {\n",
       "        vertical-align: top;\n",
       "    }\n",
       "\n",
       "    .dataframe thead th {\n",
       "        text-align: right;\n",
       "    }\n",
       "</style>\n",
       "<table border=\"1\" class=\"dataframe\">\n",
       "  <thead>\n",
       "    <tr style=\"text-align: right;\">\n",
       "      <th></th>\n",
       "      <th>status</th>\n",
       "      <th>bed</th>\n",
       "      <th>bath</th>\n",
       "      <th>acre_lot</th>\n",
       "      <th>city</th>\n",
       "      <th>state</th>\n",
       "      <th>zip_code</th>\n",
       "      <th>house_size</th>\n",
       "      <th>prev_sold_date</th>\n",
       "      <th>price</th>\n",
       "    </tr>\n",
       "  </thead>\n",
       "  <tbody>\n",
       "    <tr>\n",
       "      <th>0</th>\n",
       "      <td>for_sale</td>\n",
       "      <td>3.0</td>\n",
       "      <td>2.0</td>\n",
       "      <td>0.12</td>\n",
       "      <td>Adjuntas</td>\n",
       "      <td>Puerto Rico</td>\n",
       "      <td>601.0</td>\n",
       "      <td>920.0</td>\n",
       "      <td>NaN</td>\n",
       "      <td>105000.0</td>\n",
       "    </tr>\n",
       "    <tr>\n",
       "      <th>1</th>\n",
       "      <td>for_sale</td>\n",
       "      <td>4.0</td>\n",
       "      <td>2.0</td>\n",
       "      <td>0.08</td>\n",
       "      <td>Adjuntas</td>\n",
       "      <td>Puerto Rico</td>\n",
       "      <td>601.0</td>\n",
       "      <td>1527.0</td>\n",
       "      <td>NaN</td>\n",
       "      <td>80000.0</td>\n",
       "    </tr>\n",
       "    <tr>\n",
       "      <th>2</th>\n",
       "      <td>for_sale</td>\n",
       "      <td>2.0</td>\n",
       "      <td>1.0</td>\n",
       "      <td>0.15</td>\n",
       "      <td>Juana Diaz</td>\n",
       "      <td>Puerto Rico</td>\n",
       "      <td>795.0</td>\n",
       "      <td>748.0</td>\n",
       "      <td>NaN</td>\n",
       "      <td>67000.0</td>\n",
       "    </tr>\n",
       "    <tr>\n",
       "      <th>3</th>\n",
       "      <td>for_sale</td>\n",
       "      <td>4.0</td>\n",
       "      <td>2.0</td>\n",
       "      <td>0.10</td>\n",
       "      <td>Ponce</td>\n",
       "      <td>Puerto Rico</td>\n",
       "      <td>731.0</td>\n",
       "      <td>1800.0</td>\n",
       "      <td>NaN</td>\n",
       "      <td>145000.0</td>\n",
       "    </tr>\n",
       "    <tr>\n",
       "      <th>4</th>\n",
       "      <td>for_sale</td>\n",
       "      <td>6.0</td>\n",
       "      <td>2.0</td>\n",
       "      <td>0.05</td>\n",
       "      <td>Mayaguez</td>\n",
       "      <td>Puerto Rico</td>\n",
       "      <td>680.0</td>\n",
       "      <td>NaN</td>\n",
       "      <td>NaN</td>\n",
       "      <td>65000.0</td>\n",
       "    </tr>\n",
       "  </tbody>\n",
       "</table>\n",
       "</div>"
      ],
      "text/plain": [
       "     status  bed  bath  acre_lot        city        state  zip_code  \\\n",
       "0  for_sale  3.0   2.0      0.12    Adjuntas  Puerto Rico     601.0   \n",
       "1  for_sale  4.0   2.0      0.08    Adjuntas  Puerto Rico     601.0   \n",
       "2  for_sale  2.0   1.0      0.15  Juana Diaz  Puerto Rico     795.0   \n",
       "3  for_sale  4.0   2.0      0.10       Ponce  Puerto Rico     731.0   \n",
       "4  for_sale  6.0   2.0      0.05    Mayaguez  Puerto Rico     680.0   \n",
       "\n",
       "   house_size prev_sold_date     price  \n",
       "0       920.0            NaN  105000.0  \n",
       "1      1527.0            NaN   80000.0  \n",
       "2       748.0            NaN   67000.0  \n",
       "3      1800.0            NaN  145000.0  \n",
       "4         NaN            NaN   65000.0  "
      ]
     },
     "execution_count": 2,
     "metadata": {},
     "output_type": "execute_result"
    }
   ],
   "source": [
    "df = pd.read_csv(r'../Datasets/realtor-data.zip.csv')\n",
    "df.head(5)"
   ]
  },
  {
   "cell_type": "code",
   "execution_count": 3,
   "metadata": {},
   "outputs": [
    {
     "name": "stdout",
     "output_type": "stream",
     "text": [
      "['for_sale' 'ready_to_build']\n",
      "status\n",
      "for_sale          1399134\n",
      "ready_to_build       1932\n",
      "Name: count, dtype: int64\n",
      "['Adjuntas' 'Juana Diaz' 'Ponce' ... 'Mount Morris' 'East Concord'\n",
      " 'Brocton']\n",
      "city\n",
      "New York City      61299\n",
      "New York           55543\n",
      "Brooklyn           33491\n",
      "Boston             31551\n",
      "Bronx              22666\n",
      "                   ...  \n",
      "Carversville           1\n",
      "Furlong                1\n",
      "Sangerville            1\n",
      "Willow Grove           1\n",
      "Northeast Carry        1\n",
      "Name: count, Length: 3512, dtype: int64\n",
      "['Puerto Rico' 'Virgin Islands' 'Massachusetts' 'Connecticut'\n",
      " 'New Hampshire' 'Vermont' 'New Jersey' 'New York' 'South Carolina'\n",
      " 'Tennessee' 'Rhode Island' 'Virginia' 'Wyoming' 'Maine' 'Georgia'\n",
      " 'Pennsylvania' 'West Virginia' 'Delaware' 'Louisiana']\n",
      "state\n",
      "New York          653061\n",
      "New Jersey        256551\n",
      "Massachusetts     177170\n",
      "Connecticut        98816\n",
      "New Hampshire      51394\n",
      "Vermont            48230\n",
      "Maine              36650\n",
      "Rhode Island       29610\n",
      "Puerto Rico        24679\n",
      "Pennsylvania       20060\n",
      "Virgin Islands      2573\n",
      "Delaware            2135\n",
      "Georgia               50\n",
      "Virginia              31\n",
      "South Carolina        25\n",
      "Tennessee             20\n",
      "West Virginia          5\n",
      "Wyoming                3\n",
      "Louisiana              3\n",
      "Name: count, dtype: int64\n",
      "[nan '2020-02-28' '2019-06-28' ... '2018-11-03' '1998-08-04' '2020-12-05']\n",
      "prev_sold_date\n",
      "2022-04-15    734\n",
      "2022-02-28    554\n",
      "2022-03-31    516\n",
      "2021-10-13    478\n",
      "2022-01-21    433\n",
      "             ... \n",
      "2002-03-23      1\n",
      "1977-05-03      1\n",
      "1985-04-09      1\n",
      "1983-05-16      1\n",
      "2020-12-05      1\n",
      "Name: count, Length: 10319, dtype: int64\n"
     ]
    }
   ],
   "source": [
    "#  Hər bir sütunda olan kateqorik dəyərlərin unique sayını taparaq hansının kateqoriya olduğunu təsbit edin\n",
    "df_d = df.select_dtypes(exclude=['int', 'float'])\n",
    "for col in df_d.columns:\n",
    "    print(df_d[col].unique()) \n",
    "    print(df_d[col].value_counts()) "
   ]
  },
  {
   "cell_type": "code",
   "execution_count": 4,
   "metadata": {},
   "outputs": [
    {
     "name": "stdout",
     "output_type": "stream",
     "text": [
      "status                 0\n",
      "bed               216528\n",
      "bath              194213\n",
      "acre_lot          357467\n",
      "city                 191\n",
      "state                  0\n",
      "zip_code             479\n",
      "house_size        450112\n",
      "prev_sold_date    686293\n",
      "price                108\n",
      "dtype: int64\n"
     ]
    }
   ],
   "source": [
    "# Nulların sayını tapın\n",
    "null_counts = df.isnull().sum()\n",
    "print(null_counts)"
   ]
  },
  {
   "cell_type": "code",
   "execution_count": 7,
   "metadata": {},
   "outputs": [
    {
     "name": "stdout",
     "output_type": "stream",
     "text": [
      "           status   bed  bath  acre_lot         city        state  zip_code  \\\n",
      "0        for_sale   3.0   2.0      0.12     Adjuntas  Puerto Rico     601.0   \n",
      "1        for_sale   4.0   2.0      0.08     Adjuntas  Puerto Rico     601.0   \n",
      "2        for_sale   2.0   1.0      0.15   Juana Diaz  Puerto Rico     795.0   \n",
      "3        for_sale   4.0   2.0      0.10        Ponce  Puerto Rico     731.0   \n",
      "4        for_sale   6.0   2.0      0.05     Mayaguez  Puerto Rico     680.0   \n",
      "...           ...   ...   ...       ...          ...          ...       ...   \n",
      "1401002  for_sale   3.0   2.0      0.22   Friendship     New York   14739.0   \n",
      "1401048  for_sale   1.0   1.0      0.25  Forestville     New York   14062.0   \n",
      "1401058  for_sale   3.0   2.0      3.00        Gerry     New York   14740.0   \n",
      "1401059  for_sale   5.0   2.0      0.55      Brocton     New York   14716.0   \n",
      "1401063  for_sale  10.0   4.0      0.43      Brocton     New York   14716.0   \n",
      "\n",
      "         house_size prev_sold_date     price  \n",
      "0             920.0            NaN  105000.0  \n",
      "1            1527.0            NaN   80000.0  \n",
      "2             748.0            NaN   67000.0  \n",
      "3            1800.0            NaN  145000.0  \n",
      "4               NaN            NaN   65000.0  \n",
      "...             ...            ...       ...  \n",
      "1401002       532.0     2004-06-22  118500.0  \n",
      "1401048       696.0            NaN  139000.0  \n",
      "1401058      1568.0     1999-12-27  189900.0  \n",
      "1401059      4260.0            NaN   95000.0  \n",
      "1401063      4802.0     1994-12-01  120000.0  \n",
      "\n",
      "[152040 rows x 10 columns]\n"
     ]
    }
   ],
   "source": [
    "# Dublikatları təmizləyin\n",
    "duplicat = df.drop_duplicates()\n",
    "print(duplicat)"
   ]
  },
  {
   "cell_type": "code",
   "execution_count": 5,
   "metadata": {},
   "outputs": [
    {
     "ename": "NameError",
     "evalue": "name 'duplicat' is not defined",
     "output_type": "error",
     "traceback": [
      "\u001b[1;31m---------------------------------------------------------------------------\u001b[0m",
      "\u001b[1;31mNameError\u001b[0m                                 Traceback (most recent call last)",
      "Cell \u001b[1;32mIn[5], line 2\u001b[0m\n\u001b[0;32m      1\u001b[0m \u001b[38;5;66;03m# Təsbit etdiyiniz kateqorik sütununun sayını, std və ortalamasını tapın\u001b[39;00m\n\u001b[1;32m----> 2\u001b[0m std_counts \u001b[38;5;241m=\u001b[39m duplicat[\u001b[38;5;124m'\u001b[39m\u001b[38;5;124msutun\u001b[39m\u001b[38;5;124m'\u001b[39m]\u001b[38;5;241m.\u001b[39mvalue_counts()\n\u001b[0;32m      3\u001b[0m \u001b[38;5;28mprint\u001b[39m(std_counts)\n",
      "\u001b[1;31mNameError\u001b[0m: name 'duplicat' is not defined"
     ]
    }
   ],
   "source": [
    "# Təsbit etdiyiniz kateqorik sütununun sayını, std və ortalamasını tapın\n"
   ]
  }
 ],
 "metadata": {
  "kernelspec": {
   "display_name": "base",
   "language": "python",
   "name": "python3"
  },
  "language_info": {
   "codemirror_mode": {
    "name": "ipython",
    "version": 3
   },
   "file_extension": ".py",
   "mimetype": "text/x-python",
   "name": "python",
   "nbconvert_exporter": "python",
   "pygments_lexer": "ipython3",
   "version": "3.11.5"
  }
 },
 "nbformat": 4,
 "nbformat_minor": 2
}
