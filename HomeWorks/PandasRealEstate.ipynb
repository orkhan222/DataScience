{
 "cells": [
  {
   "cell_type": "code",
   "execution_count": 1,
   "metadata": {},
   "outputs": [],
   "source": [
    "# import\n",
    "import pandas as pd\n"
   ]
  },
  {
   "cell_type": "code",
   "execution_count": 2,
   "metadata": {},
   "outputs": [
    {
     "data": {
      "text/html": [
       "<div>\n",
       "<style scoped>\n",
       "    .dataframe tbody tr th:only-of-type {\n",
       "        vertical-align: middle;\n",
       "    }\n",
       "\n",
       "    .dataframe tbody tr th {\n",
       "        vertical-align: top;\n",
       "    }\n",
       "\n",
       "    .dataframe thead th {\n",
       "        text-align: right;\n",
       "    }\n",
       "</style>\n",
       "<table border=\"1\" class=\"dataframe\">\n",
       "  <thead>\n",
       "    <tr style=\"text-align: right;\">\n",
       "      <th></th>\n",
       "      <th>status</th>\n",
       "      <th>bed</th>\n",
       "      <th>bath</th>\n",
       "      <th>acre_lot</th>\n",
       "      <th>city</th>\n",
       "      <th>state</th>\n",
       "      <th>zip_code</th>\n",
       "      <th>house_size</th>\n",
       "      <th>prev_sold_date</th>\n",
       "      <th>price</th>\n",
       "    </tr>\n",
       "  </thead>\n",
       "  <tbody>\n",
       "    <tr>\n",
       "      <th>0</th>\n",
       "      <td>for_sale</td>\n",
       "      <td>3.0</td>\n",
       "      <td>2.0</td>\n",
       "      <td>0.12</td>\n",
       "      <td>Adjuntas</td>\n",
       "      <td>Puerto Rico</td>\n",
       "      <td>601.0</td>\n",
       "      <td>920.0</td>\n",
       "      <td>NaN</td>\n",
       "      <td>105000.0</td>\n",
       "    </tr>\n",
       "    <tr>\n",
       "      <th>1</th>\n",
       "      <td>for_sale</td>\n",
       "      <td>4.0</td>\n",
       "      <td>2.0</td>\n",
       "      <td>0.08</td>\n",
       "      <td>Adjuntas</td>\n",
       "      <td>Puerto Rico</td>\n",
       "      <td>601.0</td>\n",
       "      <td>1527.0</td>\n",
       "      <td>NaN</td>\n",
       "      <td>80000.0</td>\n",
       "    </tr>\n",
       "    <tr>\n",
       "      <th>2</th>\n",
       "      <td>for_sale</td>\n",
       "      <td>2.0</td>\n",
       "      <td>1.0</td>\n",
       "      <td>0.15</td>\n",
       "      <td>Juana Diaz</td>\n",
       "      <td>Puerto Rico</td>\n",
       "      <td>795.0</td>\n",
       "      <td>748.0</td>\n",
       "      <td>NaN</td>\n",
       "      <td>67000.0</td>\n",
       "    </tr>\n",
       "    <tr>\n",
       "      <th>3</th>\n",
       "      <td>for_sale</td>\n",
       "      <td>4.0</td>\n",
       "      <td>2.0</td>\n",
       "      <td>0.10</td>\n",
       "      <td>Ponce</td>\n",
       "      <td>Puerto Rico</td>\n",
       "      <td>731.0</td>\n",
       "      <td>1800.0</td>\n",
       "      <td>NaN</td>\n",
       "      <td>145000.0</td>\n",
       "    </tr>\n",
       "    <tr>\n",
       "      <th>4</th>\n",
       "      <td>for_sale</td>\n",
       "      <td>6.0</td>\n",
       "      <td>2.0</td>\n",
       "      <td>0.05</td>\n",
       "      <td>Mayaguez</td>\n",
       "      <td>Puerto Rico</td>\n",
       "      <td>680.0</td>\n",
       "      <td>NaN</td>\n",
       "      <td>NaN</td>\n",
       "      <td>65000.0</td>\n",
       "    </tr>\n",
       "  </tbody>\n",
       "</table>\n",
       "</div>"
      ],
      "text/plain": [
       "     status  bed  bath  acre_lot        city        state  zip_code  \\\n",
       "0  for_sale  3.0   2.0      0.12    Adjuntas  Puerto Rico     601.0   \n",
       "1  for_sale  4.0   2.0      0.08    Adjuntas  Puerto Rico     601.0   \n",
       "2  for_sale  2.0   1.0      0.15  Juana Diaz  Puerto Rico     795.0   \n",
       "3  for_sale  4.0   2.0      0.10       Ponce  Puerto Rico     731.0   \n",
       "4  for_sale  6.0   2.0      0.05    Mayaguez  Puerto Rico     680.0   \n",
       "\n",
       "   house_size prev_sold_date     price  \n",
       "0       920.0            NaN  105000.0  \n",
       "1      1527.0            NaN   80000.0  \n",
       "2       748.0            NaN   67000.0  \n",
       "3      1800.0            NaN  145000.0  \n",
       "4         NaN            NaN   65000.0  "
      ]
     },
     "execution_count": 2,
     "metadata": {},
     "output_type": "execute_result"
    }
   ],
   "source": [
    "df = pd.read_csv(r'../Datasets/realtor-data.zip.csv')\n",
    "df.head(5)"
   ]
  },
  {
   "cell_type": "code",
   "execution_count": 6,
   "metadata": {},
   "outputs": [
    {
     "name": "stdout",
     "output_type": "stream",
     "text": [
      "status                2\n",
      "bed                  48\n",
      "bath                 42\n",
      "acre_lot           4488\n",
      "city               3512\n",
      "state                19\n",
      "zip_code           4220\n",
      "house_size         6855\n",
      "prev_sold_date    10319\n",
      "price              8735\n",
      "dtype: int64\n"
     ]
    }
   ],
   "source": [
    "# 2. Hər bir sütunda olan kateqorik dəyərlərin unique sayını taparaq hansının kateqoriya olduğunu təsbit edin\n",
    "category = df.nunique()\n",
    "print(category)"
   ]
  },
  {
   "cell_type": "code",
   "execution_count": 4,
   "metadata": {},
   "outputs": [
    {
     "name": "stdout",
     "output_type": "stream",
     "text": [
      "status                 0\n",
      "bed               216528\n",
      "bath              194213\n",
      "acre_lot          357467\n",
      "city                 191\n",
      "state                  0\n",
      "zip_code             479\n",
      "house_size        450112\n",
      "prev_sold_date    686293\n",
      "price                108\n",
      "dtype: int64\n"
     ]
    }
   ],
   "source": [
    "# 3. Nulların sayını tapın\n",
    "null_counts = df.isnull().sum()\n",
    "print(null_counts)"
   ]
  },
  {
   "cell_type": "code",
   "execution_count": 5,
   "metadata": {},
   "outputs": [
    {
     "name": "stdout",
     "output_type": "stream",
     "text": [
      "           status   bed  bath  acre_lot         city        state  zip_code  \\\n",
      "0        for_sale   3.0   2.0      0.12     Adjuntas  Puerto Rico     601.0   \n",
      "1        for_sale   4.0   2.0      0.08     Adjuntas  Puerto Rico     601.0   \n",
      "2        for_sale   2.0   1.0      0.15   Juana Diaz  Puerto Rico     795.0   \n",
      "3        for_sale   4.0   2.0      0.10        Ponce  Puerto Rico     731.0   \n",
      "4        for_sale   6.0   2.0      0.05     Mayaguez  Puerto Rico     680.0   \n",
      "...           ...   ...   ...       ...          ...          ...       ...   \n",
      "1401002  for_sale   3.0   2.0      0.22   Friendship     New York   14739.0   \n",
      "1401048  for_sale   1.0   1.0      0.25  Forestville     New York   14062.0   \n",
      "1401058  for_sale   3.0   2.0      3.00        Gerry     New York   14740.0   \n",
      "1401059  for_sale   5.0   2.0      0.55      Brocton     New York   14716.0   \n",
      "1401063  for_sale  10.0   4.0      0.43      Brocton     New York   14716.0   \n",
      "\n",
      "         house_size prev_sold_date     price  \n",
      "0             920.0            NaN  105000.0  \n",
      "1            1527.0            NaN   80000.0  \n",
      "2             748.0            NaN   67000.0  \n",
      "3            1800.0            NaN  145000.0  \n",
      "4               NaN            NaN   65000.0  \n",
      "...             ...            ...       ...  \n",
      "1401002       532.0     2004-06-22  118500.0  \n",
      "1401048       696.0            NaN  139000.0  \n",
      "1401058      1568.0     1999-12-27  189900.0  \n",
      "1401059      4260.0            NaN   95000.0  \n",
      "1401063      4802.0     1994-12-01  120000.0  \n",
      "\n",
      "[152040 rows x 10 columns]\n"
     ]
    }
   ],
   "source": [
    "# 4. Dublikatları təmizləyin\n",
    "duplicat = df.drop_duplicates()\n",
    "print(duplicat)"
   ]
  },
  {
   "cell_type": "code",
   "execution_count": 8,
   "metadata": {},
   "outputs": [
    {
     "name": "stdout",
     "output_type": "stream",
     "text": [
      "status\n"
     ]
    }
   ],
   "source": [
    "# 5. Təsbit etdiyiniz kateqorik sütununun sayını, std və ortalamasını tapın\n",
    "categorical = category[category < category.max()].index.tolist()\n",
    "categorical = categorical[0] if categorical else None\n",
    "\n",
    "if categorical:\n",
    "    group_stats_before = df.groupby(categorical).size().reset_index(name='count')\n",
    "print(categorical)"
   ]
  },
  {
   "cell_type": "code",
   "execution_count": 12,
   "metadata": {},
   "outputs": [
    {
     "name": "stdout",
     "output_type": "stream",
     "text": [
      "status\n"
     ]
    }
   ],
   "source": [
    "# 6. Sayına əsasən uyğun bildiyiniz sətirləri həmin kateqoriyaya görə drop edin (Group by edin)\n",
    "column_drop = category.idxmin()\n",
    "if column_drop != categorical:\n",
    "    data = df.drop(columns=[column_drop])\n",
    "print(column_drop)"
   ]
  },
  {
   "cell_type": "code",
   "execution_count": 13,
   "metadata": {},
   "outputs": [
    {
     "name": "stdout",
     "output_type": "stream",
     "text": [
      "           status    count\n",
      "0        for_sale  1399134\n",
      "1  ready_to_build     1932\n"
     ]
    }
   ],
   "source": [
    "# 7. Yenidən say, std və ortalamaya baxın\n",
    "group_after = df.groupby(categorical).size().reset_index(name='count') if categorical else pd.DataFrame()\n",
    "print(group_after)"
   ]
  },
  {
   "cell_type": "code",
   "execution_count": 15,
   "metadata": {},
   "outputs": [
    {
     "name": "stdout",
     "output_type": "stream",
     "text": [
      "Index(['bed', 'bath', 'acre_lot', 'zip_code', 'house_size', 'price'], dtype='object')\n",
      "           bed      bath     acre_lot     zip_code   house_size         price\n",
      "std   2.051858  1.873599  1249.982872  4130.464767  3492.618042  2.683069e+06\n",
      "mean  3.392347  2.487426    32.150131  8356.640636  2178.642539  8.186029e+05\n",
      "Index([], dtype='object')\n"
     ]
    }
   ],
   "source": [
    "# 8.Sayları uyğun olan sütunları kateqorikləşdirib bunlara uyğun yeni sütunlar yaradın. Daxilində True/False olmalıdı\n",
    "numeric = df.select_dtypes(include=['number']).columns\n",
    "stats = df[numeric].agg(['std', 'mean'])\n",
    "matching = stats.columns[stats.nunique() <= 1]\n",
    "print(numeric)\n",
    "print(stats)\n",
    "print(matching)"
   ]
  },
  {
   "cell_type": "code",
   "execution_count": 16,
   "metadata": {},
   "outputs": [
    {
     "name": "stdout",
     "output_type": "stream",
     "text": [
      "           status   bed  bath  acre_lot          city        state  zip_code  \\\n",
      "0        for_sale   3.0   2.0      0.12      Adjuntas  Puerto Rico     601.0   \n",
      "1        for_sale   4.0   2.0      0.08      Adjuntas  Puerto Rico     601.0   \n",
      "2        for_sale   2.0   1.0      0.15    Juana Diaz  Puerto Rico     795.0   \n",
      "3        for_sale   4.0   2.0      0.10         Ponce  Puerto Rico     731.0   \n",
      "4        for_sale   6.0   2.0      0.05      Mayaguez  Puerto Rico     680.0   \n",
      "...           ...   ...   ...       ...           ...          ...       ...   \n",
      "1401061  for_sale   NaN   NaN    155.00    Perrysburg     New York   14129.0   \n",
      "1401062  for_sale   4.0   2.0      0.36  Silver Creek     New York   14136.0   \n",
      "1401063  for_sale  10.0   4.0      0.43       Brocton     New York   14716.0   \n",
      "1401064  for_sale   2.0   2.0      0.14       Dunkirk     New York   14048.0   \n",
      "1401065  for_sale   5.0   2.0      0.14        Angola     New York   14006.0   \n",
      "\n",
      "         house_size prev_sold_date     price  \n",
      "0             920.0            NaN  105000.0  \n",
      "1            1527.0            NaN   80000.0  \n",
      "2             748.0            NaN   67000.0  \n",
      "3            1800.0            NaN  145000.0  \n",
      "4               NaN            NaN   65000.0  \n",
      "...             ...            ...       ...  \n",
      "1401061         NaN            NaN  325000.0  \n",
      "1401062      2026.0     2000-09-01  187900.0  \n",
      "1401063      4802.0     1994-12-01  120000.0  \n",
      "1401064      1568.0     2003-04-15   92000.0  \n",
      "1401065      1908.0     2016-01-12   99900.0  \n",
      "\n",
      "[1401066 rows x 10 columns]\n"
     ]
    }
   ],
   "source": [
    "# 9.Yeni sütunları yaratdıqdan sonra əsaslandığınız column u drop edin. Lazım olmayacaq.\n",
    "data = df.drop(columns=matching)\n",
    "print(data)"
   ]
  },
  {
   "cell_type": "code",
   "execution_count": 17,
   "metadata": {},
   "outputs": [
    {
     "name": "stdout",
     "output_type": "stream",
     "text": [
      "           status   bed  bath  acre_lot          city        state  zip_code  \\\n",
      "0        for_sale   3.0   2.0      0.12      Adjuntas  Puerto Rico     601.0   \n",
      "1        for_sale   4.0   2.0      0.08      Adjuntas  Puerto Rico     601.0   \n",
      "2        for_sale   2.0   1.0      0.15    Juana Diaz  Puerto Rico     795.0   \n",
      "3        for_sale   4.0   2.0      0.10         Ponce  Puerto Rico     731.0   \n",
      "4        for_sale   6.0   2.0      0.05      Mayaguez  Puerto Rico     680.0   \n",
      "...           ...   ...   ...       ...           ...          ...       ...   \n",
      "1401061  for_sale   NaN   NaN    155.00    Perrysburg     New York   14129.0   \n",
      "1401062  for_sale   4.0   2.0      0.36  Silver Creek     New York   14136.0   \n",
      "1401063  for_sale  10.0   4.0      0.43       Brocton     New York   14716.0   \n",
      "1401064  for_sale   2.0   2.0      0.14       Dunkirk     New York   14048.0   \n",
      "1401065  for_sale   5.0   2.0      0.14        Angola     New York   14006.0   \n",
      "\n",
      "         house_size prev_sold_date     price  \n",
      "0             920.0            NaN  105000.0  \n",
      "1            1527.0            NaN   80000.0  \n",
      "2             748.0            NaN   67000.0  \n",
      "3            1800.0            NaN  145000.0  \n",
      "4               NaN            NaN   65000.0  \n",
      "...             ...            ...       ...  \n",
      "1401061         NaN            NaN  325000.0  \n",
      "1401062      2026.0     2000-09-01  187900.0  \n",
      "1401063      4802.0     1994-12-01  120000.0  \n",
      "1401064      1568.0     2003-04-15   92000.0  \n",
      "1401065      1908.0     2016-01-12   99900.0  \n",
      "\n",
      "[1401066 rows x 10 columns]\n"
     ]
    }
   ],
   "source": [
    "# 10. Flag tipinə uyğun olan sütunların dəyərlərini 0 və 1 ilə əvəz edin. \n",
    "flag = df.select_dtypes(include=['bool']).columns\n",
    "data[flag] = df[flag].astype(int)\n",
    "print(data)"
   ]
  },
  {
   "cell_type": "code",
   "execution_count": 26,
   "metadata": {},
   "outputs": [
    {
     "name": "stdout",
     "output_type": "stream",
     "text": [
      "          bed  bath  acre_lot          city        state  zip_code  \\\n",
      "0         3.0   2.0      0.12      Adjuntas  Puerto Rico     601.0   \n",
      "1         4.0   2.0      0.08      Adjuntas  Puerto Rico     601.0   \n",
      "2         2.0   1.0      0.15    Juana Diaz  Puerto Rico     795.0   \n",
      "3         4.0   2.0      0.10         Ponce  Puerto Rico     731.0   \n",
      "4         6.0   2.0      0.05      Mayaguez  Puerto Rico     680.0   \n",
      "...       ...   ...       ...           ...          ...       ...   \n",
      "1401061   NaN   NaN    155.00    Perrysburg     New York   14129.0   \n",
      "1401062   4.0   2.0      0.36  Silver Creek     New York   14136.0   \n",
      "1401063  10.0   4.0      0.43       Brocton     New York   14716.0   \n",
      "1401064   2.0   2.0      0.14       Dunkirk     New York   14048.0   \n",
      "1401065   5.0   2.0      0.14        Angola     New York   14006.0   \n",
      "\n",
      "         house_size prev_sold_date     price  \n",
      "0             920.0            NaN  105000.0  \n",
      "1            1527.0            NaN   80000.0  \n",
      "2             748.0            NaN   67000.0  \n",
      "3            1800.0            NaN  145000.0  \n",
      "4               NaN            NaN   65000.0  \n",
      "...             ...            ...       ...  \n",
      "1401061         NaN            NaN  325000.0  \n",
      "1401062      2026.0     2000-09-01  187900.0  \n",
      "1401063      4802.0     1994-12-01  120000.0  \n",
      "1401064      1568.0     2003-04-15   92000.0  \n",
      "1401065      1908.0     2016-01-12   99900.0  \n",
      "\n",
      "[1401066 rows x 9 columns]\n"
     ]
    }
   ],
   "source": [
    "# 11. Lazım olmayan sütunları drop edin\n",
    "data_cleaned = df.drop(columns=column_drop, axis=1)\n",
    "print(data_cleaned)"
   ]
  }
 ],
 "metadata": {
  "kernelspec": {
   "display_name": "base",
   "language": "python",
   "name": "python3"
  },
  "language_info": {
   "codemirror_mode": {
    "name": "ipython",
    "version": 3
   },
   "file_extension": ".py",
   "mimetype": "text/x-python",
   "name": "python",
   "nbconvert_exporter": "python",
   "pygments_lexer": "ipython3",
   "version": "3.11.7"
  }
 },
 "nbformat": 4,
 "nbformat_minor": 2
}
